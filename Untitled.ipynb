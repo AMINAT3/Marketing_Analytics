{
 "cells": [
  {
   "cell_type": "code",
   "execution_count": 1,
   "id": "9e8de255-aff1-479c-82f4-2684278432e0",
   "metadata": {},
   "outputs": [],
   "source": [
    "# importing neccessary packages\n",
    "import pandas as pd\n",
    "import numpy as np\n",
    "from datetime import date,datetime\n",
    "import matplotlib.pyplot as plt"
   ]
  },
  {
   "cell_type": "code",
   "execution_count": 2,
   "id": "8ac60eaa-36f8-4a49-a87f-36d2c70d5246",
   "metadata": {},
   "outputs": [],
   "source": [
    "# importing dataset\n",
    "df=pd.read_csv(\"C:\\\\Users\\\\Zachary_B\\\\Desktop\\\\dataset\\\\Datasetnexustech Education_ Customer_Data_Details .csv\")"
   ]
  },
  {
   "cell_type": "code",
   "execution_count": 3,
   "id": "2a518eca-96ea-4d7e-9f64-182c16125783",
   "metadata": {},
   "outputs": [
    {
     "data": {
      "text/plain": [
       "(24, 30)"
      ]
     },
     "execution_count": 3,
     "metadata": {},
     "output_type": "execute_result"
    }
   ],
   "source": [
    "df.shape"
   ]
  },
  {
   "cell_type": "code",
   "execution_count": 4,
   "id": "6cd0a139-8d73-4e9b-8a14-932105564e03",
   "metadata": {},
   "outputs": [
    {
     "data": {
      "text/html": [
       "<div>\n",
       "<style scoped>\n",
       "    .dataframe tbody tr th:only-of-type {\n",
       "        vertical-align: middle;\n",
       "    }\n",
       "\n",
       "    .dataframe tbody tr th {\n",
       "        vertical-align: top;\n",
       "    }\n",
       "\n",
       "    .dataframe thead th {\n",
       "        text-align: right;\n",
       "    }\n",
       "</style>\n",
       "<table border=\"1\" class=\"dataframe\">\n",
       "  <thead>\n",
       "    <tr style=\"text-align: right;\">\n",
       "      <th></th>\n",
       "      <th>Submitted</th>\n",
       "      <th>First Name</th>\n",
       "      <th>Last Name</th>\n",
       "      <th>Email Address</th>\n",
       "      <th>Gender</th>\n",
       "      <th>Marital Status</th>\n",
       "      <th>Converted</th>\n",
       "      <th>Location</th>\n",
       "      <th>Postal Address</th>\n",
       "      <th>Employment Status</th>\n",
       "      <th>...</th>\n",
       "      <th>Programme of Interest</th>\n",
       "      <th>Level of IT Experience</th>\n",
       "      <th>What is your main motivation for enrolling in the programme?</th>\n",
       "      <th>What are the challenges you've experienced while trying to meet the above stated goal(s)?</th>\n",
       "      <th>What can we do to help you overcome these challenges?</th>\n",
       "      <th>Employment Preferences</th>\n",
       "      <th>Monthly Salary Expectations (in Naira)</th>\n",
       "      <th>What is your short term (2 years) career goal?</th>\n",
       "      <th>What is your mid-term (2 - 5 years) career goal?</th>\n",
       "      <th>What is your long term (5+ years) career goal?</th>\n",
       "    </tr>\n",
       "  </thead>\n",
       "  <tbody>\n",
       "    <tr>\n",
       "      <th>0</th>\n",
       "      <td>2022-05-12 15:06:53</td>\n",
       "      <td>Miracle</td>\n",
       "      <td>Obiekwe</td>\n",
       "      <td>miracleobiekwe@yahoo.com</td>\n",
       "      <td>Male</td>\n",
       "      <td>Single</td>\n",
       "      <td>NO</td>\n",
       "      <td>Enugu State</td>\n",
       "      <td>&lt;p&gt;Nigeria prisons barracks enugu state comman...</td>\n",
       "      <td>Self employed / Business Owner</td>\n",
       "      <td>...</td>\n",
       "      <td>Data Science</td>\n",
       "      <td>Intermediate ( 2 - 5 years )</td>\n",
       "      <td>&lt;p&gt;That I can do all things through Christ tha...</td>\n",
       "      <td>&lt;p&gt;Coding is my challenge.. I have tried it be...</td>\n",
       "      <td>&lt;p&gt;I need maximum attention and guidance&lt;/p&gt;\\n</td>\n",
       "      <td>Foreign Employment</td>\n",
       "      <td>2.5million</td>\n",
       "      <td>&lt;p&gt;To be a consultant in the field of data sci...</td>\n",
       "      <td>&lt;p&gt;Empowering children from the street to stud...</td>\n",
       "      <td>&lt;p&gt;To be the best across the globe&lt;/p&gt;\\n</td>\n",
       "    </tr>\n",
       "    <tr>\n",
       "      <th>1</th>\n",
       "      <td>2022-04-06 20:41:29</td>\n",
       "      <td>Ibilola</td>\n",
       "      <td>Shobanke</td>\n",
       "      <td>lolashobanke@gmail.com</td>\n",
       "      <td>Female</td>\n",
       "      <td>Married</td>\n",
       "      <td>NO</td>\n",
       "      <td>Oyo State</td>\n",
       "      <td>&lt;p&gt;3 Fafunlayo Layout, Iwo Road, Ibadan &lt;/p&gt;\\n</td>\n",
       "      <td>Employed</td>\n",
       "      <td>...</td>\n",
       "      <td>Data Analytics</td>\n",
       "      <td>Beginner ( 0 - 2 years )</td>\n",
       "      <td>&lt;p&gt;For self development and to increase my cha...</td>\n",
       "      <td>&lt;p&gt;N/A&lt;/p&gt;\\n</td>\n",
       "      <td>&lt;p&gt;N/A&lt;/p&gt;\\n</td>\n",
       "      <td>Foreign Employment</td>\n",
       "      <td>N2,000,000</td>\n",
       "      <td>&lt;p&gt;Becoming a genius in data analytics and hav...</td>\n",
       "      <td>&lt;p&gt;To become diverse in the other aspects of t...</td>\n",
       "      <td>NaN</td>\n",
       "    </tr>\n",
       "    <tr>\n",
       "      <th>2</th>\n",
       "      <td>2022-04-06 12:22:57</td>\n",
       "      <td>Damilola</td>\n",
       "      <td>Oseni</td>\n",
       "      <td>dammygeorge5050@gmail.com</td>\n",
       "      <td>Female</td>\n",
       "      <td>Married</td>\n",
       "      <td>NO</td>\n",
       "      <td>FCT</td>\n",
       "      <td>&lt;p&gt;1 EMMANUEL NTUK, GOSHEN VILLA ESTATE, LUGBE...</td>\n",
       "      <td>Employed</td>\n",
       "      <td>...</td>\n",
       "      <td>Data Analytics</td>\n",
       "      <td>Beginner ( 0 - 2 years )</td>\n",
       "      <td>&lt;p&gt;Knowledge &lt;/p&gt;\\n</td>\n",
       "      <td>&lt;p&gt;Fear of failing&lt;br /&gt;\\nBudget&lt;br /&gt;\\nLack o...</td>\n",
       "      <td>&lt;p&gt;Give Feedbacks on how I can improve&lt;/p&gt;\\n</td>\n",
       "      <td>Local Employment</td>\n",
       "      <td>100,000</td>\n",
       "      <td>&lt;p&gt;Successful implementation of what I have le...</td>\n",
       "      <td>&lt;p&gt;To work in an organization&lt;/p&gt;\\n</td>\n",
       "      <td>NaN</td>\n",
       "    </tr>\n",
       "    <tr>\n",
       "      <th>3</th>\n",
       "      <td>2022-04-06 9:30:50</td>\n",
       "      <td>Kabir</td>\n",
       "      <td>Salawudeen</td>\n",
       "      <td>salawudeenkabeer@gmail.com</td>\n",
       "      <td>Male</td>\n",
       "      <td>Married</td>\n",
       "      <td>NO</td>\n",
       "      <td>FCT</td>\n",
       "      <td>&lt;p&gt;23, Angwar Siyawa Abuja Nigeria&lt;/p&gt;\\n</td>\n",
       "      <td>Employed</td>\n",
       "      <td>...</td>\n",
       "      <td>Full-Stack Software Development</td>\n",
       "      <td>Advanced ( 5 years and above )</td>\n",
       "      <td>&lt;p&gt;One of your student got a good and well pay...</td>\n",
       "      <td>&lt;p&gt;Network challenges and at times work relate...</td>\n",
       "      <td>&lt;p&gt;If I can have a full knowledge in becoming ...</td>\n",
       "      <td>Foreign Employment</td>\n",
       "      <td>300,000.00</td>\n",
       "      <td>&lt;p&gt;1.Earn a new certificate or degree.&lt;br /&gt;\\n...</td>\n",
       "      <td>&lt;p&gt;Start a personal project.&lt;/p&gt;\\n</td>\n",
       "      <td>&lt;p&gt;1. Get familiar with new technology.&lt;br /&gt;\\...</td>\n",
       "    </tr>\n",
       "    <tr>\n",
       "      <th>4</th>\n",
       "      <td>2022-04-05 14:40:24</td>\n",
       "      <td>Bashir</td>\n",
       "      <td>Hussain</td>\n",
       "      <td>uniquebash@gmail.com</td>\n",
       "      <td>Male</td>\n",
       "      <td>Married</td>\n",
       "      <td>NO</td>\n",
       "      <td>FCT</td>\n",
       "      <td>&lt;p&gt;Plot 785 Herbert Macaulay Way, CBD Abuja&lt;/p&gt;\\n</td>\n",
       "      <td>Employed</td>\n",
       "      <td>...</td>\n",
       "      <td>Data Analytics</td>\n",
       "      <td>Advanced ( 5 years and above )</td>\n",
       "      <td>&lt;p&gt;To start a career path on technology &lt;/p&gt;\\n</td>\n",
       "      <td>&lt;p&gt;Interest &lt;/p&gt;\\n</td>\n",
       "      <td>&lt;p&gt;Enrolment &lt;/p&gt;\\n</td>\n",
       "      <td>Foreign Employment</td>\n",
       "      <td>500,000.00</td>\n",
       "      <td>&lt;p&gt;To obtain basic certification on technology...</td>\n",
       "      <td>&lt;p&gt;To obtain multiple certifications on techno...</td>\n",
       "      <td>&lt;p&gt;To be a reference point in technology &lt;/p&gt;\\n</td>\n",
       "    </tr>\n",
       "  </tbody>\n",
       "</table>\n",
       "<p>5 rows × 30 columns</p>\n",
       "</div>"
      ],
      "text/plain": [
       "             Submitted First Name   Last Name               Email Address  \\\n",
       "0  2022-05-12 15:06:53    Miracle     Obiekwe    miracleobiekwe@yahoo.com   \n",
       "1  2022-04-06 20:41:29   Ibilola    Shobanke       lolashobanke@gmail.com   \n",
       "2  2022-04-06 12:22:57   Damilola       Oseni   dammygeorge5050@gmail.com   \n",
       "3   2022-04-06 9:30:50      Kabir  Salawudeen  salawudeenkabeer@gmail.com   \n",
       "4  2022-04-05 14:40:24    Bashir      Hussain        uniquebash@gmail.com   \n",
       "\n",
       "   Gender Marital Status Converted     Location  \\\n",
       "0    Male         Single        NO  Enugu State   \n",
       "1  Female        Married        NO    Oyo State   \n",
       "2  Female        Married        NO          FCT   \n",
       "3    Male        Married        NO          FCT   \n",
       "4    Male        Married        NO          FCT   \n",
       "\n",
       "                                      Postal Address  \\\n",
       "0  <p>Nigeria prisons barracks enugu state comman...   \n",
       "1     <p>3 Fafunlayo Layout, Iwo Road, Ibadan </p>\\n   \n",
       "2  <p>1 EMMANUEL NTUK, GOSHEN VILLA ESTATE, LUGBE...   \n",
       "3           <p>23, Angwar Siyawa Abuja Nigeria</p>\\n   \n",
       "4  <p>Plot 785 Herbert Macaulay Way, CBD Abuja</p>\\n   \n",
       "\n",
       "                Employment Status  ...            Programme of Interest  \\\n",
       "0  Self employed / Business Owner  ...                     Data Science   \n",
       "1                        Employed  ...                   Data Analytics   \n",
       "2                        Employed  ...                   Data Analytics   \n",
       "3                        Employed  ...  Full-Stack Software Development   \n",
       "4                        Employed  ...                   Data Analytics   \n",
       "\n",
       "           Level of IT Experience  \\\n",
       "0    Intermediate ( 2 - 5 years )   \n",
       "1        Beginner ( 0 - 2 years )   \n",
       "2        Beginner ( 0 - 2 years )   \n",
       "3  Advanced ( 5 years and above )   \n",
       "4  Advanced ( 5 years and above )   \n",
       "\n",
       "  What is your main motivation for enrolling in the programme?  \\\n",
       "0  <p>That I can do all things through Christ tha...             \n",
       "1  <p>For self development and to increase my cha...             \n",
       "2                                <p>Knowledge </p>\\n             \n",
       "3  <p>One of your student got a good and well pay...             \n",
       "4     <p>To start a career path on technology </p>\\n             \n",
       "\n",
       "  What are the challenges you've experienced while trying to meet the above stated goal(s)?  \\\n",
       "0  <p>Coding is my challenge.. I have tried it be...                                          \n",
       "1                                       <p>N/A</p>\\n                                          \n",
       "2  <p>Fear of failing<br />\\nBudget<br />\\nLack o...                                          \n",
       "3  <p>Network challenges and at times work relate...                                          \n",
       "4                                 <p>Interest </p>\\n                                          \n",
       "\n",
       "  What can we do to help you overcome these challenges?  \\\n",
       "0     <p>I need maximum attention and guidance</p>\\n      \n",
       "1                                       <p>N/A</p>\\n      \n",
       "2       <p>Give Feedbacks on how I can improve</p>\\n      \n",
       "3  <p>If I can have a full knowledge in becoming ...      \n",
       "4                                <p>Enrolment </p>\\n      \n",
       "\n",
       "  Employment Preferences  Monthly Salary Expectations (in Naira)  \\\n",
       "0     Foreign Employment                              2.5million   \n",
       "1     Foreign Employment                              N2,000,000   \n",
       "2       Local Employment                                 100,000   \n",
       "3     Foreign Employment                              300,000.00   \n",
       "4     Foreign Employment                              500,000.00   \n",
       "\n",
       "      What is your short term (2 years) career goal?  \\\n",
       "0  <p>To be a consultant in the field of data sci...   \n",
       "1  <p>Becoming a genius in data analytics and hav...   \n",
       "2  <p>Successful implementation of what I have le...   \n",
       "3  <p>1.Earn a new certificate or degree.<br />\\n...   \n",
       "4  <p>To obtain basic certification on technology...   \n",
       "\n",
       "    What is your mid-term (2 - 5 years) career goal?  \\\n",
       "0  <p>Empowering children from the street to stud...   \n",
       "1  <p>To become diverse in the other aspects of t...   \n",
       "2                <p>To work in an organization</p>\\n   \n",
       "3                 <p>Start a personal project.</p>\\n   \n",
       "4  <p>To obtain multiple certifications on techno...   \n",
       "\n",
       "      What is your long term (5+ years) career goal?  \n",
       "0           <p>To be the best across the globe</p>\\n  \n",
       "1                                                NaN  \n",
       "2                                                NaN  \n",
       "3  <p>1. Get familiar with new technology.<br />\\...  \n",
       "4    <p>To be a reference point in technology </p>\\n  \n",
       "\n",
       "[5 rows x 30 columns]"
      ]
     },
     "execution_count": 4,
     "metadata": {},
     "output_type": "execute_result"
    }
   ],
   "source": [
    "# returns the first five values of the dataset\n",
    "df.head()"
   ]
  },
  {
   "cell_type": "code",
   "execution_count": 5,
   "id": "8b4e3f52-ad31-4f4c-93b2-1c08675f54d3",
   "metadata": {
    "tags": []
   },
   "outputs": [
    {
     "name": "stdout",
     "output_type": "stream",
     "text": [
      "<class 'pandas.core.frame.DataFrame'>\n",
      "RangeIndex: 24 entries, 0 to 23\n",
      "Data columns (total 30 columns):\n",
      " #   Column                                                                                     Non-Null Count  Dtype \n",
      "---  ------                                                                                     --------------  ----- \n",
      " 0   Submitted                                                                                  24 non-null     object\n",
      " 1   First Name                                                                                 24 non-null     object\n",
      " 2   Last Name                                                                                  24 non-null     object\n",
      " 3   Email Address                                                                              24 non-null     object\n",
      " 4   Gender                                                                                     24 non-null     object\n",
      " 5   Marital Status                                                                             24 non-null     object\n",
      " 6   Converted                                                                                  23 non-null     object\n",
      " 7   Location                                                                                   24 non-null     object\n",
      " 8   Postal Address                                                                             13 non-null     object\n",
      " 9   Employment Status                                                                          24 non-null     object\n",
      " 10  Personal Interests                                                                         24 non-null     object\n",
      " 11  What Social Media do you use?                                                              24 non-null     object\n",
      " 12  What is your primary objective/goal for enrolling in this programme?                       24 non-null     object\n",
      " 13  What is your secondary objective/goal for enrolling in this programme?                     20 non-null     object\n",
      " 14  What can we do to help you achieve the above stated goal(s)?                               24 non-null     object\n",
      " 15  How you determine the achievement of above stated goal(s)?                                 24 non-null     object\n",
      " 16  Phone Number                                                                               24 non-null     int64 \n",
      " 17  Date of Birth                                                                              24 non-null     object\n",
      " 18  Education                                                                                  24 non-null     object\n",
      " 19  Profession                                                                                 23 non-null     object\n",
      " 20  Programme of Interest                                                                      24 non-null     object\n",
      " 21  Level of IT Experience                                                                     22 non-null     object\n",
      " 22  What is your main motivation for enrolling in the programme?                               24 non-null     object\n",
      " 23  What are the challenges you've experienced while trying to meet the above stated goal(s)?  24 non-null     object\n",
      " 24  What can we do to help you overcome these challenges?                                      24 non-null     object\n",
      " 25  Employment Preferences                                                                     22 non-null     object\n",
      " 26  Monthly Salary Expectations (in Naira)                                                     22 non-null     object\n",
      " 27  What is your short term (2 years) career goal?                                             22 non-null     object\n",
      " 28  What is your mid-term (2 - 5 years) career goal?                                           22 non-null     object\n",
      " 29  What is your long term (5+ years) career goal?                                             19 non-null     object\n",
      "dtypes: int64(1), object(29)\n",
      "memory usage: 5.8+ KB\n"
     ]
    }
   ],
   "source": [
    "df.info()"
   ]
  },
  {
   "cell_type": "code",
   "execution_count": 6,
   "id": "40630b3a-f0bd-4681-beaa-d1df71a60fb5",
   "metadata": {},
   "outputs": [],
   "source": [
    "# Use df.columns command to drop columns via indexing\n",
    "df2 = df.drop(df.columns[[0,3,8,12,13,14,15,16,22,23,24,28,29]], axis=1)"
   ]
  },
  {
   "cell_type": "code",
   "execution_count": 7,
   "id": "9d98ca43-82ff-4b4b-81c6-a5b5001ab69a",
   "metadata": {},
   "outputs": [
    {
     "data": {
      "text/plain": [
       "Index(['First Name', 'Last Name', 'Gender', 'Marital Status', 'Converted',\n",
       "       'Location', 'Employment Status', 'Personal Interests',\n",
       "       'What Social Media do you use?', 'Date of Birth', 'Education',\n",
       "       'Profession', 'Programme of Interest', 'Level of IT Experience',\n",
       "       'Employment Preferences', 'Monthly Salary Expectations (in Naira)',\n",
       "       'What is your short term (2 years) career goal?'],\n",
       "      dtype='object')"
      ]
     },
     "execution_count": 7,
     "metadata": {},
     "output_type": "execute_result"
    }
   ],
   "source": [
    "df2.columns"
   ]
  },
  {
   "cell_type": "code",
   "execution_count": 8,
   "id": "b33652a0-a3bc-4758-a9db-7d102af25bd0",
   "metadata": {},
   "outputs": [],
   "source": [
    "df2['Engaged'] = df2['Converted'].apply(lambda x: 1 if x == 'Yes' else 0)"
   ]
  },
  {
   "cell_type": "code",
   "execution_count": 9,
   "id": "a3106baa-09ac-495a-93af-9e2466533f47",
   "metadata": {},
   "outputs": [
    {
     "data": {
      "text/plain": [
       "62.5"
      ]
     },
     "execution_count": 9,
     "metadata": {},
     "output_type": "execute_result"
    }
   ],
   "source": [
    "df2['Engaged'].mean()*100"
   ]
  },
  {
   "cell_type": "code",
   "execution_count": 10,
   "id": "673d0e6b-91e9-477c-bf30-1206dcc27fde",
   "metadata": {},
   "outputs": [],
   "source": [
    "def age(born):\n",
    "    born = datetime.strptime(born, \"%Y-%m-%d\").date()\n",
    "    today = date.today()\n",
    "    return today.year - born.year - ((today.month, today.day) < (born.month, born.day))\n",
    "  \n",
    "df2['Age'] = df2['Date of Birth'].apply(age)"
   ]
  },
  {
   "cell_type": "code",
   "execution_count": 11,
   "id": "b000de12-6a87-4568-8180-e424faacc232",
   "metadata": {},
   "outputs": [],
   "source": [
    "continuous_features = [\n",
    "    'Age'\n",
    "]"
   ]
  },
  {
   "cell_type": "code",
   "execution_count": 20,
   "id": "bc8a09dc-49ea-4d3c-a791-43e2b10560b4",
   "metadata": {},
   "outputs": [],
   "source": [
    "# If you look closely at the data, the following variables are categorical variables and they take different values:\n",
    "columns_to_encode = [\n",
    "   'Marital Status', 'Employment Status', 'Education',\n",
    "]\n",
    "\n",
    "# we create dummy variables for each category of individual categorical variables, using the get_dummies function from the pandas package. \n",
    "categorical_features = []\n",
    "for col in columns_to_encode:\n",
    "    encoded_df = pd.get_dummies(df2[col])\n",
    "    encoded_df.columns = [col.replace(' ', '.') + '.' + x for x in encoded_df.columns]\n",
    "    \n",
    "    categorical_features += list(encoded_df.columns) \n",
    "    \n",
    "    df2 = pd.concat([df, encoded_df], axis=1)"
   ]
  },
  {
   "cell_type": "code",
   "execution_count": 21,
   "id": "7aa7a898-14d6-4436-abc4-7fa1feaaef47",
   "metadata": {},
   "outputs": [],
   "source": [
    "# we are going to create one variable that contains information about the gender of a given record.\n",
    "df['Is.Female'] = df['Gender'].apply(lambda x: 1 if x == 'F' else 0)\n",
    "categorical_features.append('Is.Female')"
   ]
  },
  {
   "cell_type": "code",
   "execution_count": 22,
   "id": "a5ace75f-6fa8-475f-9ca7-6bf50bb6be7b",
   "metadata": {},
   "outputs": [],
   "source": [
    "# cleaning up in our data. Take a look at the following code: \n",
    "all_features = continuous_features +  categorical_features\n",
    "Converted = 'Engaged'\n"
   ]
  },
  {
   "cell_type": "code",
   "execution_count": 23,
   "id": "4db4518e-79fc-42a7-83a0-56e394ea7370",
   "metadata": {},
   "outputs": [
    {
     "data": {
      "text/plain": [
       "['Age',\n",
       " 'Marital.Status.Married',\n",
       " 'Marital.Status.Single',\n",
       " 'Employment.Status.Employed',\n",
       " 'Employment.Status.Self employed / Business Owner',\n",
       " 'Employment.Status.Unemployed',\n",
       " 'Education.Bachelor&#039;s Degree',\n",
       " 'Education.HND',\n",
       " 'Education.Masters',\n",
       " 'Education.NCE',\n",
       " 'Education.SSCE',\n",
       " 'Is.Female']"
      ]
     },
     "execution_count": 23,
     "metadata": {},
     "output_type": "execute_result"
    }
   ],
   "source": [
    "all_features"
   ]
  },
  {
   "cell_type": "code",
   "execution_count": 29,
   "id": "81465b75-da26-4e27-8bad-5ade512142ed",
   "metadata": {},
   "outputs": [
    {
     "ename": "SyntaxError",
     "evalue": "invalid syntax (<ipython-input-29-9448d57f895e>, line 6)",
     "output_type": "error",
     "traceback": [
      "\u001b[1;36m  File \u001b[1;32m\"<ipython-input-29-9448d57f895e>\"\u001b[1;36m, line \u001b[1;32m6\u001b[0m\n\u001b[1;33m    sample_df.columns = [x.replace(' ', '.') for x in sample_df.columns]\u001b[0m\n\u001b[1;37m    ^\u001b[0m\n\u001b[1;31mSyntaxError\u001b[0m\u001b[1;31m:\u001b[0m invalid syntax\n"
     ]
    }
   ],
   "source": [
    "# As you can see from this code, we are creating a new DataFrame sample_df, which contains all the features, all_features\n",
    "# and the response variable, response. Then, we are cleaning up the column and feature names by replacing all the spaces \n",
    "# in the names with dots. After these cleanups, DataFrame sample_df\n",
    "\n",
    "sample_df = df2[all_features + [[Converted]]\n",
    "sample_df.columns = [x.replace(' ', '.') for x in sample_df.columns]\n",
    "all_features = [x.replace(' ', '.') for x in all_features]"
   ]
  },
  {
   "cell_type": "code",
   "execution_count": null,
   "id": "e6cdc4ef-cfa6-4b53-9277-11c5494ba062",
   "metadata": {},
   "outputs": [],
   "source": []
  }
 ],
 "metadata": {
  "kernelspec": {
   "display_name": "Python 3",
   "language": "python",
   "name": "python3"
  },
  "language_info": {
   "codemirror_mode": {
    "name": "ipython",
    "version": 3
   },
   "file_extension": ".py",
   "mimetype": "text/x-python",
   "name": "python",
   "nbconvert_exporter": "python",
   "pygments_lexer": "ipython3",
   "version": "3.8.8"
  }
 },
 "nbformat": 4,
 "nbformat_minor": 5
}
